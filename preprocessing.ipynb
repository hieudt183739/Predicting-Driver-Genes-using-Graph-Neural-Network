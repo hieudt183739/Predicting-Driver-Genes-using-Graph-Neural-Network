{
 "cells": [
  {
   "cell_type": "code",
   "execution_count": 2,
   "metadata": {},
   "outputs": [],
   "source": [
    "import numpy as np\n",
    "import pandas as pd\n",
    "import torch\n",
    "import pickle\n",
    "from tqdm import tqdm\n",
    "import time\n",
    "import scipy.sparse as sp\n",
    "from preProcessing.gen_adj import generate_adj\n",
    "from preProcessing.get_BA import preprocess_bilinear"
   ]
  },
  {
   "cell_type": "markdown",
   "metadata": {},
   "source": [
    "# Tạo mạng Gene-Outlying Gene cho LUAD"
   ]
  },
  {
   "cell_type": "code",
   "execution_count": null,
   "metadata": {},
   "outputs": [],
   "source": [
    "luad_outlying_gene = pd.read_csv('data/luad/LUAD_outlying gene_names.csv', index_col=0)\n",
    "pan_outlying_gene = pd.read_csv('data/outlying gene_names.csv')\n",
    "gene_name = pd.read_csv('data/gene_names.txt', header=None)\n",
    "pp = pd.read_csv('data/luad/PP.txt', delimiter='\\t', header=None)   # ppi network\n",
    "\n",
    "### Tao matran PO\n",
    "# tim index cua outlying gene va mutated gene trong file gene_name de so voi pp.txt\n",
    "o_index = []\n",
    "for o in luad_outlying_gene.iloc[:,0]:\n",
    "    for i,n in enumerate(gene_name.iloc[:,1]):\n",
    "        if o == n:\n",
    "            o_index.append(i)\n",
    "            \n",
    "# lay cac gen bi dot bien o LUAD\n",
    "m_index = []\n",
    "P_feature = pd.read_csv('data/pan-cancer/P.feat-final.csv', index_col=0).iloc[:,6].to_numpy()\n",
    "for idx,val in enumerate(P_feature):\n",
    "    if val != 0: m_index.append(idx)   \n",
    "\n",
    "mask0 = [(i in m_index) for i in pp.iloc[:,0]]  # danh dau lien ket cua mutated gene\n",
    "mask1 = [(i in o_index) for i in pp.iloc[:,1]]  # danh dau lien ket cua outlying gene\n",
    "\n",
    "# gene-outlying gene co lien ket neu: (1) gene la mutated gene, (2) gene co lien ket voi outlying gene trong PPI\n",
    "mm = []\n",
    "for i,j in zip(mask0, mask1):\n",
    "    if i == True & j == True:\n",
    "        mm.append(True)\n",
    "    else:\n",
    "        mm.append(False)\n",
    "po = pp[mm]\n",
    "\n",
    "# thay doi index cua Outlying Gene theo dung thu tu cua trong file LUAD_outlying_gene_names.csv\n",
    "for i,o in enumerate(po.iloc[:,1]):\n",
    "    for idx,g in enumerate(o_index):\n",
    "        if o == g: po.iloc[i,1] = idx\n",
    "\n",
    "# luu index cua Outlying \n",
    "with open('data/luad/O.txt', 'w') as file:\n",
    "    for i in range(luad_outlying_gene.shape[0]):\n",
    "        file.write(str(i) + '\\t' + str(i + 1) + '\\n')\n",
    "\n",
    "po.to_csv('data/luad/PO.txt', sep='\\t', header=None, index=None)   # luu matrix ke gene-luad_outlying_gene\n",
    "print('Done: Generate PO.txt')\n",
    "print('So canh: ', len(po))\n",
    "\n",
    "generate_adj('PO', 'data/luad/', 'data/luad/')  # chuan hoa ma tran gene-luad_outlying_gene\n",
    "print('Done: Normalize PO')\n",
    "\n",
    "### thuoc tinh outlying gene\n",
    "# tim index cua luad outlying gene trong file outlying gene name\n",
    "oo_index = []\n",
    "for i,o1 in  enumerate(luad_outlying_gene.iloc[:,0]):\n",
    "    for j,o2 in enumerate(pan_outlying_gene.iloc[:,1]):\n",
    "        if o1==o2:\n",
    "            oo_index.append(j)\n",
    "\n",
    "O_feature = pd.read_csv('data/pan-cancer/O.feat-final.csv', index_col=0)\n",
    "O_feature = O_feature.iloc[oo_index, [6,22]].rename(columns={'6':'0', '22':'1'}).reset_index(drop=True)\n",
    "O_feature.to_csv('data/luad/O.feat-final.csv')\n",
    "print('Done: Generate the Feature of Outlying Gene')\n",
    "\n",
    "### preProcessing chuan bi dau vao cho mo hinh Bilinear \n",
    "adj1 = sp.load_npz(\"data/luad/PO.adj.npz\").toarray()    \n",
    "adj1 = np.where(adj1 > 0, 1, 0)\n",
    "adj2 = np.zeros((adj1.shape[0], adj1.shape[0]))\n",
    "adj3 = np.zeros((adj1.shape[1], adj1.shape[1]))\n",
    "adj4 = np.transpose(adj1)\n",
    "\n",
    "# concatenated into a large matrix\n",
    "adj_2_4 = np.vstack((adj2, adj4))\n",
    "adj_1_3 = np.vstack((adj1, adj3))\n",
    "adj = np.hstack((adj_2_4, adj_1_3))\n",
    "adj = torch.Tensor(adj)\n",
    "\n",
    "x,y = preprocess_bilinear(adj)\n",
    "sp.save_npz(\"data/luad/O.adj_loop.npz\", x)   # x chinh la thang adj + matran duong cheo voi gia tri duong cheo = 1\n",
    "sp.save_npz(\"data/luad/O.N_all.npz\", y)      # y luu bac cua tung dong trong adj, gduong cheo chinh co gia tri bang: 2/(tong_hang_adj * (tong_hang_adj - 1))\n",
    "print('Done: Preprocessing for Bilinear model')"
   ]
  },
  {
   "cell_type": "markdown",
   "metadata": {},
   "source": [
    "# Tao thuoc tinh cho Gene, miRNA cua LUAD"
   ]
  },
  {
   "cell_type": "code",
   "execution_count": 5,
   "metadata": {},
   "outputs": [
    {
     "name": "stderr",
     "output_type": "stream",
     "text": [
      "100%|██████████| 2000/2000 [01:57<00:00, 16.96it/s]\n"
     ]
    },
    {
     "data": {
      "text/plain": [
       "CompletedProcess(args=['python3', 'pretrain.py'], returncode=0)"
      ]
     },
     "execution_count": 5,
     "metadata": {},
     "output_type": "execute_result"
    }
   ],
   "source": [
    "P = pd.read_csv('data/pan-cancer/P.feat-final.csv', index_col=0)\n",
    "R = pd.read_csv('data/pan-cancer/R.feat-final.csv', index_col=0)\n",
    "\n",
    "p = pd.concat([P.iloc[:, [6,22,38]],P.iloc[:, 48:64]] , axis=1, ignore_index=True)\n",
    "p.to_csv('data/luad/P.feat-final.csv')\n",
    "\n",
    "r = R.iloc[:,[6,22,38,48]]\n",
    "r.to_csv('data/luad/R.feat-final.csv')\n",
    "\n",
    "# pretrain\n",
    "import subprocess\n",
    "subprocess.run(['python3', 'pretrain.py'])"
   ]
  },
  {
   "cell_type": "markdown",
   "metadata": {},
   "source": [
    "# Tao Similarity Gene-Gene Graph"
   ]
  },
  {
   "cell_type": "code",
   "execution_count": null,
   "metadata": {},
   "outputs": [],
   "source": [
    "threshold = [0.7, 0.8, 0.9]\n",
    "\n",
    "GG = pd.read_csv('data/Similarity_matrix.csv', index_col=0) \n",
    "GG.reset_index(drop=True, inplace=True)\n",
    "GG.columns = [i for i in range(13627)]\n",
    "\n",
    "for t in threshold:\n",
    "    edge = GG.stack()[(GG.stack() >= t)]\n",
    "    edge = list(edge.index)\n",
    "    index = []\n",
    "    for i in edge:\n",
    "        if i[0] != i[1]: index.append(list(i))\n",
    "\n",
    "    with open(f'data/luad/GG_{t}.txt', 'w') as file:\n",
    "        for sublist in index:\n",
    "            file.write('\\t'.join(map(str, sublist)) + '\\n')"
   ]
  },
  {
   "cell_type": "code",
   "execution_count": 5,
   "metadata": {},
   "outputs": [
    {
     "name": "stdout",
     "output_type": "stream",
     "text": [
      "Done: Normalize GG_0.7\n",
      "Done: Normalize GG_0.8\n",
      "Done: Normalize GG_0.9\n"
     ]
    }
   ],
   "source": [
    "# chuan hoa \n",
    "for t in threshold: \n",
    "    generate_adj(f'GG_{t}', 'data/luad/', 'data/luad/')  # chuan hoa ma tran gene-luad_outlying_gene\n",
    "    print(f'Done: Normalize GG_{t}.txt')\n"
   ]
  },
  {
   "cell_type": "code",
   "execution_count": null,
   "metadata": {},
   "outputs": [],
   "source": []
  }
 ],
 "metadata": {
  "kernelspec": {
   "display_name": "DNN",
   "language": "python",
   "name": "python3"
  },
  "language_info": {
   "codemirror_mode": {
    "name": "ipython",
    "version": 3
   },
   "file_extension": ".py",
   "mimetype": "text/x-python",
   "name": "python",
   "nbconvert_exporter": "python",
   "pygments_lexer": "ipython3",
   "version": "3.12.2"
  }
 },
 "nbformat": 4,
 "nbformat_minor": 2
}
